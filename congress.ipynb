{
 "cells": [
  {
   "cell_type": "code",
   "execution_count": 1,
   "metadata": {},
   "outputs": [],
   "source": [
    "# first draft to collect info and make widgets\n",
    "# make the next one an app and host it on github pages\n",
    "# imports\n",
    "import ipywidgets as widgets\n",
    "from ipywidgets import interact, interactive, fixed, interact_manual\n",
    "\n"
   ]
  },
  {
   "cell_type": "code",
   "execution_count": null,
   "metadata": {},
   "outputs": [],
   "source": [
    "# use bs4 to query information about all congress members\n",
    "from bs4 import BeautifulSoup\n",
    "import requests\n",
    "\n",
    "# web scraper function\n",
    "def scrape_congress_info(url):\n",
    "    response = requests.get(url)\n",
    "    soup = BeautifulSoup(response.text, 'html.parser')\n",
    "\n",
    "    # find all congress members\n",
    "    members = soup.find_all('div', class_='member-info')\n",
    "\n",
    "    # initialize empty lists to store data\n",
    "    member_names = []\n",
    "    party_affiliations = []\n",
    "    birth_dates = []\n",
    "    birth_places = []\n",
    "\n",
    "    # loop through each member and extract relevant info\n",
    "    for member in members:\n",
    "        name = member.find('h3', class_='member-name').text.strip()\n",
    "        party = member.find('span', class_='party').text.strip()\n",
    "        birth_date = member.find('span', class_='birth-date').text.strip()\n",
    "        birth_place = member.find('span', class_='birth-place').text.strip()\n",
    "\n",
    "        member_names.append(name"
   ]
  }
 ],
 "metadata": {
  "kernelspec": {
   "display_name": "Python 3.10.8 ('fulcra_env')",
   "language": "python",
   "name": "python3"
  },
  "language_info": {
   "codemirror_mode": {
    "name": "ipython",
    "version": 3
   },
   "file_extension": ".py",
   "mimetype": "text/x-python",
   "name": "python",
   "nbconvert_exporter": "python",
   "pygments_lexer": "ipython3",
   "version": "3.10.8"
  },
  "orig_nbformat": 4,
  "vscode": {
   "interpreter": {
    "hash": "203f8245b470ea291719d9f524f54f6eb3be99715316aa8f82f087d4ce1a9b72"
   }
  }
 },
 "nbformat": 4,
 "nbformat_minor": 2
}
